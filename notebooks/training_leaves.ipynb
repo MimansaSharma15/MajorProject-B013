{
 "cells": [
  {
   "cell_type": "markdown",
   "metadata": {},
   "source": [
    "# Plant Leaf Classification\n",
    "\n",
    "Applying machine learning models for classification of plant leaf images"
   ]
  },
  {
   "cell_type": "markdown",
   "metadata": {},
   "source": [
    "### Importing necessary libraries"
   ]
  },
  {
   "cell_type": "code",
   "execution_count": 3,
   "metadata": {},
   "outputs": [],
   "source": [
    "import numpy as np\n",
    "import pandas as pd\n",
    "import os\n",
    "import string"
   ]
  },
  {
   "cell_type": "markdown",
   "metadata": {},
   "source": [
    "### Reading the dataset"
   ]
  },
  {
   "cell_type": "code",
   "execution_count": 4,
   "metadata": {},
   "outputs": [],
   "source": [
    "dataset = pd.read_csv(\"MAJOR.csv\")"
   ]
  },
  {
   "cell_type": "code",
   "execution_count": 5,
   "metadata": {},
   "outputs": [
    {
     "data": {
      "text/html": [
       "<div>\n",
       "<style scoped>\n",
       "    .dataframe tbody tr th:only-of-type {\n",
       "        vertical-align: middle;\n",
       "    }\n",
       "\n",
       "    .dataframe tbody tr th {\n",
       "        vertical-align: top;\n",
       "    }\n",
       "\n",
       "    .dataframe thead th {\n",
       "        text-align: right;\n",
       "    }\n",
       "</style>\n",
       "<table border=\"1\" class=\"dataframe\">\n",
       "  <thead>\n",
       "    <tr style=\"text-align: right;\">\n",
       "      <th></th>\n",
       "      <th>Unnamed: 0</th>\n",
       "      <th>area</th>\n",
       "      <th>perimeter</th>\n",
       "      <th>physiological_length</th>\n",
       "      <th>physiological_width</th>\n",
       "      <th>aspect_ratio</th>\n",
       "      <th>rectangularity</th>\n",
       "      <th>circularity</th>\n",
       "      <th>mean_r</th>\n",
       "      <th>mean_g</th>\n",
       "      <th>mean_b</th>\n",
       "      <th>stddev_r</th>\n",
       "      <th>stddev_g</th>\n",
       "      <th>stddev_b</th>\n",
       "      <th>contrast</th>\n",
       "      <th>correlation</th>\n",
       "      <th>inverse_difference_moments</th>\n",
       "      <th>entropy</th>\n",
       "    </tr>\n",
       "  </thead>\n",
       "  <tbody>\n",
       "    <tr>\n",
       "      <th>0</th>\n",
       "      <td>0</td>\n",
       "      <td>2720548.0</td>\n",
       "      <td>7093.779454</td>\n",
       "      <td>2185</td>\n",
       "      <td>1923</td>\n",
       "      <td>1.136245</td>\n",
       "      <td>1.544452</td>\n",
       "      <td>18.496901</td>\n",
       "      <td>175.422947</td>\n",
       "      <td>174.491910</td>\n",
       "      <td>152.287766</td>\n",
       "      <td>54.742162</td>\n",
       "      <td>47.526391</td>\n",
       "      <td>73.123473</td>\n",
       "      <td>9.332967</td>\n",
       "      <td>0.998307</td>\n",
       "      <td>0.412868</td>\n",
       "      <td>9.786245</td>\n",
       "    </tr>\n",
       "    <tr>\n",
       "      <th>1</th>\n",
       "      <td>0</td>\n",
       "      <td>3236207.0</td>\n",
       "      <td>7833.180593</td>\n",
       "      <td>1742</td>\n",
       "      <td>2910</td>\n",
       "      <td>0.598625</td>\n",
       "      <td>1.566408</td>\n",
       "      <td>18.960072</td>\n",
       "      <td>173.383629</td>\n",
       "      <td>173.635191</td>\n",
       "      <td>147.298171</td>\n",
       "      <td>59.620965</td>\n",
       "      <td>52.062883</td>\n",
       "      <td>78.682088</td>\n",
       "      <td>9.002314</td>\n",
       "      <td>0.998628</td>\n",
       "      <td>0.401363</td>\n",
       "      <td>9.953432</td>\n",
       "    </tr>\n",
       "    <tr>\n",
       "      <th>2</th>\n",
       "      <td>0</td>\n",
       "      <td>4004079.0</td>\n",
       "      <td>7937.671805</td>\n",
       "      <td>2233</td>\n",
       "      <td>2288</td>\n",
       "      <td>0.975962</td>\n",
       "      <td>1.275975</td>\n",
       "      <td>15.735612</td>\n",
       "      <td>166.907685</td>\n",
       "      <td>168.155174</td>\n",
       "      <td>137.364853</td>\n",
       "      <td>65.463742</td>\n",
       "      <td>57.015254</td>\n",
       "      <td>85.737864</td>\n",
       "      <td>7.686358</td>\n",
       "      <td>0.999024</td>\n",
       "      <td>0.431449</td>\n",
       "      <td>9.766508</td>\n",
       "    </tr>\n",
       "    <tr>\n",
       "      <th>3</th>\n",
       "      <td>0</td>\n",
       "      <td>3601065.5</td>\n",
       "      <td>8576.678071</td>\n",
       "      <td>1732</td>\n",
       "      <td>3285</td>\n",
       "      <td>0.527245</td>\n",
       "      <td>1.579982</td>\n",
       "      <td>20.427123</td>\n",
       "      <td>165.455155</td>\n",
       "      <td>165.719658</td>\n",
       "      <td>138.445994</td>\n",
       "      <td>58.581270</td>\n",
       "      <td>50.441720</td>\n",
       "      <td>78.786882</td>\n",
       "      <td>9.139080</td>\n",
       "      <td>0.998544</td>\n",
       "      <td>0.394996</td>\n",
       "      <td>9.891589</td>\n",
       "    </tr>\n",
       "    <tr>\n",
       "      <th>4</th>\n",
       "      <td>0</td>\n",
       "      <td>3471506.5</td>\n",
       "      <td>8028.913572</td>\n",
       "      <td>2554</td>\n",
       "      <td>2026</td>\n",
       "      <td>1.260612</td>\n",
       "      <td>1.490536</td>\n",
       "      <td>18.569302</td>\n",
       "      <td>168.422521</td>\n",
       "      <td>169.271163</td>\n",
       "      <td>143.087844</td>\n",
       "      <td>59.940583</td>\n",
       "      <td>52.470042</td>\n",
       "      <td>80.232598</td>\n",
       "      <td>9.162804</td>\n",
       "      <td>0.998628</td>\n",
       "      <td>0.395314</td>\n",
       "      <td>10.028587</td>\n",
       "    </tr>\n",
       "    <tr>\n",
       "      <th>...</th>\n",
       "      <td>...</td>\n",
       "      <td>...</td>\n",
       "      <td>...</td>\n",
       "      <td>...</td>\n",
       "      <td>...</td>\n",
       "      <td>...</td>\n",
       "      <td>...</td>\n",
       "      <td>...</td>\n",
       "      <td>...</td>\n",
       "      <td>...</td>\n",
       "      <td>...</td>\n",
       "      <td>...</td>\n",
       "      <td>...</td>\n",
       "      <td>...</td>\n",
       "      <td>...</td>\n",
       "      <td>...</td>\n",
       "      <td>...</td>\n",
       "      <td>...</td>\n",
       "    </tr>\n",
       "    <tr>\n",
       "      <th>1877</th>\n",
       "      <td>0</td>\n",
       "      <td>3547726.0</td>\n",
       "      <td>7351.072949</td>\n",
       "      <td>1960</td>\n",
       "      <td>2446</td>\n",
       "      <td>0.801308</td>\n",
       "      <td>1.351333</td>\n",
       "      <td>15.231806</td>\n",
       "      <td>163.790237</td>\n",
       "      <td>169.526623</td>\n",
       "      <td>143.705761</td>\n",
       "      <td>67.195346</td>\n",
       "      <td>55.816134</td>\n",
       "      <td>85.441197</td>\n",
       "      <td>7.446277</td>\n",
       "      <td>0.999050</td>\n",
       "      <td>0.418858</td>\n",
       "      <td>9.507663</td>\n",
       "    </tr>\n",
       "    <tr>\n",
       "      <th>1878</th>\n",
       "      <td>0</td>\n",
       "      <td>2512418.0</td>\n",
       "      <td>6376.676860</td>\n",
       "      <td>1622</td>\n",
       "      <td>2157</td>\n",
       "      <td>0.751970</td>\n",
       "      <td>1.392545</td>\n",
       "      <td>16.184412</td>\n",
       "      <td>174.693337</td>\n",
       "      <td>177.509541</td>\n",
       "      <td>156.104451</td>\n",
       "      <td>59.745474</td>\n",
       "      <td>49.330552</td>\n",
       "      <td>74.987792</td>\n",
       "      <td>8.714702</td>\n",
       "      <td>0.998577</td>\n",
       "      <td>0.398861</td>\n",
       "      <td>9.681560</td>\n",
       "    </tr>\n",
       "    <tr>\n",
       "      <th>1879</th>\n",
       "      <td>0</td>\n",
       "      <td>3459284.5</td>\n",
       "      <td>7449.124682</td>\n",
       "      <td>2006</td>\n",
       "      <td>2364</td>\n",
       "      <td>0.848562</td>\n",
       "      <td>1.370857</td>\n",
       "      <td>16.040733</td>\n",
       "      <td>164.041674</td>\n",
       "      <td>168.708603</td>\n",
       "      <td>142.031868</td>\n",
       "      <td>65.277439</td>\n",
       "      <td>53.419778</td>\n",
       "      <td>82.639604</td>\n",
       "      <td>8.034160</td>\n",
       "      <td>0.998896</td>\n",
       "      <td>0.403949</td>\n",
       "      <td>9.506496</td>\n",
       "    </tr>\n",
       "    <tr>\n",
       "      <th>1880</th>\n",
       "      <td>0</td>\n",
       "      <td>2988973.5</td>\n",
       "      <td>7193.301311</td>\n",
       "      <td>1469</td>\n",
       "      <td>2819</td>\n",
       "      <td>0.521107</td>\n",
       "      <td>1.385463</td>\n",
       "      <td>17.311490</td>\n",
       "      <td>172.596229</td>\n",
       "      <td>175.141883</td>\n",
       "      <td>149.833681</td>\n",
       "      <td>64.860522</td>\n",
       "      <td>52.874197</td>\n",
       "      <td>79.995718</td>\n",
       "      <td>7.953245</td>\n",
       "      <td>0.998878</td>\n",
       "      <td>0.433264</td>\n",
       "      <td>9.465607</td>\n",
       "    </tr>\n",
       "    <tr>\n",
       "      <th>1881</th>\n",
       "      <td>0</td>\n",
       "      <td>2505324.5</td>\n",
       "      <td>6271.526711</td>\n",
       "      <td>1557</td>\n",
       "      <td>2279</td>\n",
       "      <td>0.683194</td>\n",
       "      <td>1.416345</td>\n",
       "      <td>15.699382</td>\n",
       "      <td>179.310168</td>\n",
       "      <td>181.432655</td>\n",
       "      <td>159.605511</td>\n",
       "      <td>60.552825</td>\n",
       "      <td>49.329551</td>\n",
       "      <td>75.861046</td>\n",
       "      <td>8.643402</td>\n",
       "      <td>0.998606</td>\n",
       "      <td>0.410631</td>\n",
       "      <td>9.504816</td>\n",
       "    </tr>\n",
       "  </tbody>\n",
       "</table>\n",
       "<p>1882 rows × 18 columns</p>\n",
       "</div>"
      ],
      "text/plain": [
       "      Unnamed: 0       area    perimeter  physiological_length  \\\n",
       "0              0  2720548.0  7093.779454                  2185   \n",
       "1              0  3236207.0  7833.180593                  1742   \n",
       "2              0  4004079.0  7937.671805                  2233   \n",
       "3              0  3601065.5  8576.678071                  1732   \n",
       "4              0  3471506.5  8028.913572                  2554   \n",
       "...          ...        ...          ...                   ...   \n",
       "1877           0  3547726.0  7351.072949                  1960   \n",
       "1878           0  2512418.0  6376.676860                  1622   \n",
       "1879           0  3459284.5  7449.124682                  2006   \n",
       "1880           0  2988973.5  7193.301311                  1469   \n",
       "1881           0  2505324.5  6271.526711                  1557   \n",
       "\n",
       "      physiological_width  aspect_ratio  rectangularity  circularity  \\\n",
       "0                    1923      1.136245        1.544452    18.496901   \n",
       "1                    2910      0.598625        1.566408    18.960072   \n",
       "2                    2288      0.975962        1.275975    15.735612   \n",
       "3                    3285      0.527245        1.579982    20.427123   \n",
       "4                    2026      1.260612        1.490536    18.569302   \n",
       "...                   ...           ...             ...          ...   \n",
       "1877                 2446      0.801308        1.351333    15.231806   \n",
       "1878                 2157      0.751970        1.392545    16.184412   \n",
       "1879                 2364      0.848562        1.370857    16.040733   \n",
       "1880                 2819      0.521107        1.385463    17.311490   \n",
       "1881                 2279      0.683194        1.416345    15.699382   \n",
       "\n",
       "          mean_r      mean_g      mean_b   stddev_r   stddev_g   stddev_b  \\\n",
       "0     175.422947  174.491910  152.287766  54.742162  47.526391  73.123473   \n",
       "1     173.383629  173.635191  147.298171  59.620965  52.062883  78.682088   \n",
       "2     166.907685  168.155174  137.364853  65.463742  57.015254  85.737864   \n",
       "3     165.455155  165.719658  138.445994  58.581270  50.441720  78.786882   \n",
       "4     168.422521  169.271163  143.087844  59.940583  52.470042  80.232598   \n",
       "...          ...         ...         ...        ...        ...        ...   \n",
       "1877  163.790237  169.526623  143.705761  67.195346  55.816134  85.441197   \n",
       "1878  174.693337  177.509541  156.104451  59.745474  49.330552  74.987792   \n",
       "1879  164.041674  168.708603  142.031868  65.277439  53.419778  82.639604   \n",
       "1880  172.596229  175.141883  149.833681  64.860522  52.874197  79.995718   \n",
       "1881  179.310168  181.432655  159.605511  60.552825  49.329551  75.861046   \n",
       "\n",
       "      contrast  correlation  inverse_difference_moments    entropy  \n",
       "0     9.332967     0.998307                    0.412868   9.786245  \n",
       "1     9.002314     0.998628                    0.401363   9.953432  \n",
       "2     7.686358     0.999024                    0.431449   9.766508  \n",
       "3     9.139080     0.998544                    0.394996   9.891589  \n",
       "4     9.162804     0.998628                    0.395314  10.028587  \n",
       "...        ...          ...                         ...        ...  \n",
       "1877  7.446277     0.999050                    0.418858   9.507663  \n",
       "1878  8.714702     0.998577                    0.398861   9.681560  \n",
       "1879  8.034160     0.998896                    0.403949   9.506496  \n",
       "1880  7.953245     0.998878                    0.433264   9.465607  \n",
       "1881  8.643402     0.998606                    0.410631   9.504816  \n",
       "\n",
       "[1882 rows x 18 columns]"
      ]
     },
     "execution_count": 5,
     "metadata": {},
     "output_type": "execute_result"
    }
   ],
   "source": [
    "dataset"
   ]
  },
  {
   "cell_type": "code",
   "execution_count": 6,
   "metadata": {},
   "outputs": [
    {
     "data": {
      "text/html": [
       "<div>\n",
       "<style scoped>\n",
       "    .dataframe tbody tr th:only-of-type {\n",
       "        vertical-align: middle;\n",
       "    }\n",
       "\n",
       "    .dataframe tbody tr th {\n",
       "        vertical-align: top;\n",
       "    }\n",
       "\n",
       "    .dataframe thead th {\n",
       "        text-align: right;\n",
       "    }\n",
       "</style>\n",
       "<table border=\"1\" class=\"dataframe\">\n",
       "  <thead>\n",
       "    <tr style=\"text-align: right;\">\n",
       "      <th></th>\n",
       "      <th>Unnamed: 0</th>\n",
       "      <th>area</th>\n",
       "      <th>perimeter</th>\n",
       "      <th>physiological_length</th>\n",
       "      <th>physiological_width</th>\n",
       "      <th>aspect_ratio</th>\n",
       "      <th>rectangularity</th>\n",
       "      <th>circularity</th>\n",
       "      <th>mean_r</th>\n",
       "      <th>mean_g</th>\n",
       "      <th>mean_b</th>\n",
       "      <th>stddev_r</th>\n",
       "      <th>stddev_g</th>\n",
       "      <th>stddev_b</th>\n",
       "      <th>contrast</th>\n",
       "      <th>correlation</th>\n",
       "      <th>inverse_difference_moments</th>\n",
       "      <th>entropy</th>\n",
       "    </tr>\n",
       "  </thead>\n",
       "  <tbody>\n",
       "    <tr>\n",
       "      <th>0</th>\n",
       "      <td>0</td>\n",
       "      <td>2720548.0</td>\n",
       "      <td>7093.779454</td>\n",
       "      <td>2185</td>\n",
       "      <td>1923</td>\n",
       "      <td>1.136245</td>\n",
       "      <td>1.544452</td>\n",
       "      <td>18.496901</td>\n",
       "      <td>175.422947</td>\n",
       "      <td>174.491910</td>\n",
       "      <td>152.287766</td>\n",
       "      <td>54.742162</td>\n",
       "      <td>47.526391</td>\n",
       "      <td>73.123473</td>\n",
       "      <td>9.332967</td>\n",
       "      <td>0.998307</td>\n",
       "      <td>0.412868</td>\n",
       "      <td>9.786245</td>\n",
       "    </tr>\n",
       "    <tr>\n",
       "      <th>1</th>\n",
       "      <td>0</td>\n",
       "      <td>3236207.0</td>\n",
       "      <td>7833.180593</td>\n",
       "      <td>1742</td>\n",
       "      <td>2910</td>\n",
       "      <td>0.598625</td>\n",
       "      <td>1.566408</td>\n",
       "      <td>18.960072</td>\n",
       "      <td>173.383629</td>\n",
       "      <td>173.635191</td>\n",
       "      <td>147.298171</td>\n",
       "      <td>59.620965</td>\n",
       "      <td>52.062883</td>\n",
       "      <td>78.682088</td>\n",
       "      <td>9.002314</td>\n",
       "      <td>0.998628</td>\n",
       "      <td>0.401363</td>\n",
       "      <td>9.953432</td>\n",
       "    </tr>\n",
       "    <tr>\n",
       "      <th>2</th>\n",
       "      <td>0</td>\n",
       "      <td>4004079.0</td>\n",
       "      <td>7937.671805</td>\n",
       "      <td>2233</td>\n",
       "      <td>2288</td>\n",
       "      <td>0.975962</td>\n",
       "      <td>1.275975</td>\n",
       "      <td>15.735612</td>\n",
       "      <td>166.907685</td>\n",
       "      <td>168.155174</td>\n",
       "      <td>137.364853</td>\n",
       "      <td>65.463742</td>\n",
       "      <td>57.015254</td>\n",
       "      <td>85.737864</td>\n",
       "      <td>7.686358</td>\n",
       "      <td>0.999024</td>\n",
       "      <td>0.431449</td>\n",
       "      <td>9.766508</td>\n",
       "    </tr>\n",
       "    <tr>\n",
       "      <th>3</th>\n",
       "      <td>0</td>\n",
       "      <td>3601065.5</td>\n",
       "      <td>8576.678071</td>\n",
       "      <td>1732</td>\n",
       "      <td>3285</td>\n",
       "      <td>0.527245</td>\n",
       "      <td>1.579982</td>\n",
       "      <td>20.427123</td>\n",
       "      <td>165.455155</td>\n",
       "      <td>165.719658</td>\n",
       "      <td>138.445994</td>\n",
       "      <td>58.581270</td>\n",
       "      <td>50.441720</td>\n",
       "      <td>78.786882</td>\n",
       "      <td>9.139080</td>\n",
       "      <td>0.998544</td>\n",
       "      <td>0.394996</td>\n",
       "      <td>9.891589</td>\n",
       "    </tr>\n",
       "    <tr>\n",
       "      <th>4</th>\n",
       "      <td>0</td>\n",
       "      <td>3471506.5</td>\n",
       "      <td>8028.913572</td>\n",
       "      <td>2554</td>\n",
       "      <td>2026</td>\n",
       "      <td>1.260612</td>\n",
       "      <td>1.490536</td>\n",
       "      <td>18.569302</td>\n",
       "      <td>168.422521</td>\n",
       "      <td>169.271163</td>\n",
       "      <td>143.087844</td>\n",
       "      <td>59.940583</td>\n",
       "      <td>52.470042</td>\n",
       "      <td>80.232598</td>\n",
       "      <td>9.162804</td>\n",
       "      <td>0.998628</td>\n",
       "      <td>0.395314</td>\n",
       "      <td>10.028587</td>\n",
       "    </tr>\n",
       "  </tbody>\n",
       "</table>\n",
       "</div>"
      ],
      "text/plain": [
       "   Unnamed: 0       area    perimeter  physiological_length  \\\n",
       "0           0  2720548.0  7093.779454                  2185   \n",
       "1           0  3236207.0  7833.180593                  1742   \n",
       "2           0  4004079.0  7937.671805                  2233   \n",
       "3           0  3601065.5  8576.678071                  1732   \n",
       "4           0  3471506.5  8028.913572                  2554   \n",
       "\n",
       "   physiological_width  aspect_ratio  rectangularity  circularity      mean_r  \\\n",
       "0                 1923      1.136245        1.544452    18.496901  175.422947   \n",
       "1                 2910      0.598625        1.566408    18.960072  173.383629   \n",
       "2                 2288      0.975962        1.275975    15.735612  166.907685   \n",
       "3                 3285      0.527245        1.579982    20.427123  165.455155   \n",
       "4                 2026      1.260612        1.490536    18.569302  168.422521   \n",
       "\n",
       "       mean_g      mean_b   stddev_r   stddev_g   stddev_b  contrast  \\\n",
       "0  174.491910  152.287766  54.742162  47.526391  73.123473  9.332967   \n",
       "1  173.635191  147.298171  59.620965  52.062883  78.682088  9.002314   \n",
       "2  168.155174  137.364853  65.463742  57.015254  85.737864  7.686358   \n",
       "3  165.719658  138.445994  58.581270  50.441720  78.786882  9.139080   \n",
       "4  169.271163  143.087844  59.940583  52.470042  80.232598  9.162804   \n",
       "\n",
       "   correlation  inverse_difference_moments    entropy  \n",
       "0     0.998307                    0.412868   9.786245  \n",
       "1     0.998628                    0.401363   9.953432  \n",
       "2     0.999024                    0.431449   9.766508  \n",
       "3     0.998544                    0.394996   9.891589  \n",
       "4     0.998628                    0.395314  10.028587  "
      ]
     },
     "execution_count": 6,
     "metadata": {},
     "output_type": "execute_result"
    }
   ],
   "source": [
    "dataset.head(5)"
   ]
  },
  {
   "cell_type": "code",
   "execution_count": 7,
   "metadata": {},
   "outputs": [
    {
     "data": {
      "text/plain": [
       "pandas.core.frame.DataFrame"
      ]
     },
     "execution_count": 7,
     "metadata": {},
     "output_type": "execute_result"
    }
   ],
   "source": [
    "type(dataset)"
   ]
  },
  {
   "cell_type": "code",
   "execution_count": 8,
   "metadata": {},
   "outputs": [],
   "source": [
    "maindir = r'D:\\Leaves'\n",
    "img_files = os.listdir(maindir)"
   ]
  },
  {
   "cell_type": "markdown",
   "metadata": {},
   "source": [
    "### Creating target labels\n",
    "\n",
    "Breakpoints are used alongside the image file to create a vector of target labels. The breakpoints are solely made by us."
   ]
  },
  {
   "cell_type": "code",
   "execution_count": 9,
   "metadata": {},
   "outputs": [],
   "source": [
    "breakpoints = ['AA-001','AA-044','AI-001','AI-044','AIA-001','AIA-044','AM-001','AM-086','AP-001','AP-044','AV-001','AV-044','CA-001','CA-044','CAB-001','CAB-086','CH-001','CH-099','CQ-001','CQ-065','CR-001','CR-044','CT-001','CT-040','FB-001','FB-044','FR-001','FR-044','GS-001','GS-088','HI-001','HI-088','HR-001','HR-086','LA-001','LA-062','MI-001','MI-044','MK-001','MK-065','MP-001','MP-043','MT-001','MT-042','NO-001','NO-044','RT-001','RT-044','SR-001','SR-065','ST-001','ST-044','STL-001','STL-044','TA-001','TA-088','TC-001','TC-044','VN-001','VN-087','WC-001','WC-044','WT-001','WT-088']"
   ]
  },
  {
   "cell_type": "code",
   "execution_count": 10,
   "metadata": {},
   "outputs": [],
   "source": [
    "target_list = []\n",
    "for file in img_files:\n",
    "    target_num = str(file.split(\".\")[0])\n",
    "    flag = 0\n",
    "    i = 0 \n",
    "    for i in range(0,len(breakpoints),2):\n",
    "        if((target_num >= breakpoints[i]) and (target_num <= breakpoints[i+1])):\n",
    "            flag = 1\n",
    "            break\n",
    "    if(flag==1):\n",
    "        target = int((i/2))\n",
    "        target_list.append(target)"
   ]
  },
  {
   "cell_type": "code",
   "execution_count": 11,
   "metadata": {},
   "outputs": [
    {
     "data": {
      "text/plain": [
       "array([ 0,  0,  0, ..., 31, 31, 31])"
      ]
     },
     "execution_count": 11,
     "metadata": {},
     "output_type": "execute_result"
    }
   ],
   "source": [
    "y = np.array(target_list)\n",
    "y"
   ]
  },
  {
   "cell_type": "code",
   "execution_count": 12,
   "metadata": {},
   "outputs": [],
   "source": [
    "X = dataset.iloc[:,1:]"
   ]
  },
  {
   "cell_type": "code",
   "execution_count": 13,
   "metadata": {},
   "outputs": [
    {
     "data": {
      "text/html": [
       "<div>\n",
       "<style scoped>\n",
       "    .dataframe tbody tr th:only-of-type {\n",
       "        vertical-align: middle;\n",
       "    }\n",
       "\n",
       "    .dataframe tbody tr th {\n",
       "        vertical-align: top;\n",
       "    }\n",
       "\n",
       "    .dataframe thead th {\n",
       "        text-align: right;\n",
       "    }\n",
       "</style>\n",
       "<table border=\"1\" class=\"dataframe\">\n",
       "  <thead>\n",
       "    <tr style=\"text-align: right;\">\n",
       "      <th></th>\n",
       "      <th>area</th>\n",
       "      <th>perimeter</th>\n",
       "      <th>physiological_length</th>\n",
       "      <th>physiological_width</th>\n",
       "      <th>aspect_ratio</th>\n",
       "      <th>rectangularity</th>\n",
       "      <th>circularity</th>\n",
       "      <th>mean_r</th>\n",
       "      <th>mean_g</th>\n",
       "      <th>mean_b</th>\n",
       "      <th>stddev_r</th>\n",
       "      <th>stddev_g</th>\n",
       "      <th>stddev_b</th>\n",
       "      <th>contrast</th>\n",
       "      <th>correlation</th>\n",
       "      <th>inverse_difference_moments</th>\n",
       "      <th>entropy</th>\n",
       "    </tr>\n",
       "  </thead>\n",
       "  <tbody>\n",
       "    <tr>\n",
       "      <th>0</th>\n",
       "      <td>2720548.0</td>\n",
       "      <td>7093.779454</td>\n",
       "      <td>2185</td>\n",
       "      <td>1923</td>\n",
       "      <td>1.136245</td>\n",
       "      <td>1.544452</td>\n",
       "      <td>18.496901</td>\n",
       "      <td>175.422947</td>\n",
       "      <td>174.491910</td>\n",
       "      <td>152.287766</td>\n",
       "      <td>54.742162</td>\n",
       "      <td>47.526391</td>\n",
       "      <td>73.123473</td>\n",
       "      <td>9.332967</td>\n",
       "      <td>0.998307</td>\n",
       "      <td>0.412868</td>\n",
       "      <td>9.786245</td>\n",
       "    </tr>\n",
       "    <tr>\n",
       "      <th>1</th>\n",
       "      <td>3236207.0</td>\n",
       "      <td>7833.180593</td>\n",
       "      <td>1742</td>\n",
       "      <td>2910</td>\n",
       "      <td>0.598625</td>\n",
       "      <td>1.566408</td>\n",
       "      <td>18.960072</td>\n",
       "      <td>173.383629</td>\n",
       "      <td>173.635191</td>\n",
       "      <td>147.298171</td>\n",
       "      <td>59.620965</td>\n",
       "      <td>52.062883</td>\n",
       "      <td>78.682088</td>\n",
       "      <td>9.002314</td>\n",
       "      <td>0.998628</td>\n",
       "      <td>0.401363</td>\n",
       "      <td>9.953432</td>\n",
       "    </tr>\n",
       "    <tr>\n",
       "      <th>2</th>\n",
       "      <td>4004079.0</td>\n",
       "      <td>7937.671805</td>\n",
       "      <td>2233</td>\n",
       "      <td>2288</td>\n",
       "      <td>0.975962</td>\n",
       "      <td>1.275975</td>\n",
       "      <td>15.735612</td>\n",
       "      <td>166.907685</td>\n",
       "      <td>168.155174</td>\n",
       "      <td>137.364853</td>\n",
       "      <td>65.463742</td>\n",
       "      <td>57.015254</td>\n",
       "      <td>85.737864</td>\n",
       "      <td>7.686358</td>\n",
       "      <td>0.999024</td>\n",
       "      <td>0.431449</td>\n",
       "      <td>9.766508</td>\n",
       "    </tr>\n",
       "    <tr>\n",
       "      <th>3</th>\n",
       "      <td>3601065.5</td>\n",
       "      <td>8576.678071</td>\n",
       "      <td>1732</td>\n",
       "      <td>3285</td>\n",
       "      <td>0.527245</td>\n",
       "      <td>1.579982</td>\n",
       "      <td>20.427123</td>\n",
       "      <td>165.455155</td>\n",
       "      <td>165.719658</td>\n",
       "      <td>138.445994</td>\n",
       "      <td>58.581270</td>\n",
       "      <td>50.441720</td>\n",
       "      <td>78.786882</td>\n",
       "      <td>9.139080</td>\n",
       "      <td>0.998544</td>\n",
       "      <td>0.394996</td>\n",
       "      <td>9.891589</td>\n",
       "    </tr>\n",
       "    <tr>\n",
       "      <th>4</th>\n",
       "      <td>3471506.5</td>\n",
       "      <td>8028.913572</td>\n",
       "      <td>2554</td>\n",
       "      <td>2026</td>\n",
       "      <td>1.260612</td>\n",
       "      <td>1.490536</td>\n",
       "      <td>18.569302</td>\n",
       "      <td>168.422521</td>\n",
       "      <td>169.271163</td>\n",
       "      <td>143.087844</td>\n",
       "      <td>59.940583</td>\n",
       "      <td>52.470042</td>\n",
       "      <td>80.232598</td>\n",
       "      <td>9.162804</td>\n",
       "      <td>0.998628</td>\n",
       "      <td>0.395314</td>\n",
       "      <td>10.028587</td>\n",
       "    </tr>\n",
       "  </tbody>\n",
       "</table>\n",
       "</div>"
      ],
      "text/plain": [
       "        area    perimeter  physiological_length  physiological_width  \\\n",
       "0  2720548.0  7093.779454                  2185                 1923   \n",
       "1  3236207.0  7833.180593                  1742                 2910   \n",
       "2  4004079.0  7937.671805                  2233                 2288   \n",
       "3  3601065.5  8576.678071                  1732                 3285   \n",
       "4  3471506.5  8028.913572                  2554                 2026   \n",
       "\n",
       "   aspect_ratio  rectangularity  circularity      mean_r      mean_g  \\\n",
       "0      1.136245        1.544452    18.496901  175.422947  174.491910   \n",
       "1      0.598625        1.566408    18.960072  173.383629  173.635191   \n",
       "2      0.975962        1.275975    15.735612  166.907685  168.155174   \n",
       "3      0.527245        1.579982    20.427123  165.455155  165.719658   \n",
       "4      1.260612        1.490536    18.569302  168.422521  169.271163   \n",
       "\n",
       "       mean_b   stddev_r   stddev_g   stddev_b  contrast  correlation  \\\n",
       "0  152.287766  54.742162  47.526391  73.123473  9.332967     0.998307   \n",
       "1  147.298171  59.620965  52.062883  78.682088  9.002314     0.998628   \n",
       "2  137.364853  65.463742  57.015254  85.737864  7.686358     0.999024   \n",
       "3  138.445994  58.581270  50.441720  78.786882  9.139080     0.998544   \n",
       "4  143.087844  59.940583  52.470042  80.232598  9.162804     0.998628   \n",
       "\n",
       "   inverse_difference_moments    entropy  \n",
       "0                    0.412868   9.786245  \n",
       "1                    0.401363   9.953432  \n",
       "2                    0.431449   9.766508  \n",
       "3                    0.394996   9.891589  \n",
       "4                    0.395314  10.028587  "
      ]
     },
     "execution_count": 13,
     "metadata": {},
     "output_type": "execute_result"
    }
   ],
   "source": [
    "X.head(5)"
   ]
  },
  {
   "cell_type": "code",
   "execution_count": 14,
   "metadata": {},
   "outputs": [
    {
     "data": {
      "text/plain": [
       "array([0, 0, 0, 0, 0])"
      ]
     },
     "execution_count": 14,
     "metadata": {},
     "output_type": "execute_result"
    }
   ],
   "source": [
    "y[0:5]"
   ]
  },
  {
   "cell_type": "code",
   "execution_count": 15,
   "metadata": {},
   "outputs": [
    {
     "data": {
      "text/plain": [
       "(1882, 17)"
      ]
     },
     "execution_count": 15,
     "metadata": {},
     "output_type": "execute_result"
    }
   ],
   "source": [
    "X.shape"
   ]
  },
  {
   "cell_type": "code",
   "execution_count": 16,
   "metadata": {
    "scrolled": true
   },
   "outputs": [
    {
     "data": {
      "text/plain": [
       "array([ 0,  0,  0, ..., 31, 31, 31])"
      ]
     },
     "execution_count": 16,
     "metadata": {},
     "output_type": "execute_result"
    }
   ],
   "source": [
    "y"
   ]
  },
  {
   "cell_type": "code",
   "execution_count": 17,
   "metadata": {},
   "outputs": [
    {
     "data": {
      "text/plain": [
       "(1882,)"
      ]
     },
     "execution_count": 17,
     "metadata": {},
     "output_type": "execute_result"
    }
   ],
   "source": [
    "y.shape"
   ]
  },
  {
   "cell_type": "markdown",
   "metadata": {},
   "source": [
    "### Train test split"
   ]
  },
  {
   "cell_type": "code",
   "execution_count": 18,
   "metadata": {},
   "outputs": [],
   "source": [
    "from sklearn.model_selection import train_test_split"
   ]
  },
  {
   "cell_type": "code",
   "execution_count": 19,
   "metadata": {
    "scrolled": true
   },
   "outputs": [],
   "source": [
    "X_train, X_test, y_train, y_test = train_test_split(X, y, test_size=0.3, random_state = 150)"
   ]
  },
  {
   "cell_type": "code",
   "execution_count": 20,
   "metadata": {},
   "outputs": [
    {
     "data": {
      "text/html": [
       "<div>\n",
       "<style scoped>\n",
       "    .dataframe tbody tr th:only-of-type {\n",
       "        vertical-align: middle;\n",
       "    }\n",
       "\n",
       "    .dataframe tbody tr th {\n",
       "        vertical-align: top;\n",
       "    }\n",
       "\n",
       "    .dataframe thead th {\n",
       "        text-align: right;\n",
       "    }\n",
       "</style>\n",
       "<table border=\"1\" class=\"dataframe\">\n",
       "  <thead>\n",
       "    <tr style=\"text-align: right;\">\n",
       "      <th></th>\n",
       "      <th>area</th>\n",
       "      <th>perimeter</th>\n",
       "      <th>physiological_length</th>\n",
       "      <th>physiological_width</th>\n",
       "      <th>aspect_ratio</th>\n",
       "      <th>rectangularity</th>\n",
       "      <th>circularity</th>\n",
       "      <th>mean_r</th>\n",
       "      <th>mean_g</th>\n",
       "      <th>mean_b</th>\n",
       "      <th>stddev_r</th>\n",
       "      <th>stddev_g</th>\n",
       "      <th>stddev_b</th>\n",
       "      <th>contrast</th>\n",
       "      <th>correlation</th>\n",
       "      <th>inverse_difference_moments</th>\n",
       "      <th>entropy</th>\n",
       "    </tr>\n",
       "  </thead>\n",
       "  <tbody>\n",
       "    <tr>\n",
       "      <th>1231</th>\n",
       "      <td>38.5</td>\n",
       "      <td>25.556349</td>\n",
       "      <td>10</td>\n",
       "      <td>8</td>\n",
       "      <td>1.250000</td>\n",
       "      <td>2.077922</td>\n",
       "      <td>16.964337</td>\n",
       "      <td>194.858812</td>\n",
       "      <td>191.911236</td>\n",
       "      <td>181.863633</td>\n",
       "      <td>34.809182</td>\n",
       "      <td>33.294240</td>\n",
       "      <td>37.022518</td>\n",
       "      <td>22.849149</td>\n",
       "      <td>0.990186</td>\n",
       "      <td>0.312255</td>\n",
       "      <td>10.069319</td>\n",
       "    </tr>\n",
       "    <tr>\n",
       "      <th>138</th>\n",
       "      <td>14.5</td>\n",
       "      <td>15.071068</td>\n",
       "      <td>5</td>\n",
       "      <td>6</td>\n",
       "      <td>0.833333</td>\n",
       "      <td>2.068966</td>\n",
       "      <td>15.664626</td>\n",
       "      <td>188.506163</td>\n",
       "      <td>186.108987</td>\n",
       "      <td>171.099081</td>\n",
       "      <td>47.095569</td>\n",
       "      <td>40.520784</td>\n",
       "      <td>56.779588</td>\n",
       "      <td>19.193600</td>\n",
       "      <td>0.995104</td>\n",
       "      <td>0.291458</td>\n",
       "      <td>10.133033</td>\n",
       "    </tr>\n",
       "    <tr>\n",
       "      <th>1290</th>\n",
       "      <td>1550881.0</td>\n",
       "      <td>8131.219256</td>\n",
       "      <td>3377</td>\n",
       "      <td>1539</td>\n",
       "      <td>2.194282</td>\n",
       "      <td>3.351129</td>\n",
       "      <td>42.631721</td>\n",
       "      <td>183.912348</td>\n",
       "      <td>180.874941</td>\n",
       "      <td>165.681293</td>\n",
       "      <td>49.891362</td>\n",
       "      <td>44.386409</td>\n",
       "      <td>57.805109</td>\n",
       "      <td>20.223334</td>\n",
       "      <td>0.995524</td>\n",
       "      <td>0.303615</td>\n",
       "      <td>10.270597</td>\n",
       "    </tr>\n",
       "    <tr>\n",
       "      <th>1097</th>\n",
       "      <td>2157367.5</td>\n",
       "      <td>7211.002766</td>\n",
       "      <td>1083</td>\n",
       "      <td>3114</td>\n",
       "      <td>0.347784</td>\n",
       "      <td>1.563230</td>\n",
       "      <td>24.102783</td>\n",
       "      <td>178.713918</td>\n",
       "      <td>177.977039</td>\n",
       "      <td>158.446665</td>\n",
       "      <td>55.632217</td>\n",
       "      <td>48.125594</td>\n",
       "      <td>67.335208</td>\n",
       "      <td>13.529281</td>\n",
       "      <td>0.997545</td>\n",
       "      <td>0.371395</td>\n",
       "      <td>9.459341</td>\n",
       "    </tr>\n",
       "    <tr>\n",
       "      <th>460</th>\n",
       "      <td>39.0</td>\n",
       "      <td>23.313708</td>\n",
       "      <td>8</td>\n",
       "      <td>8</td>\n",
       "      <td>1.000000</td>\n",
       "      <td>1.641026</td>\n",
       "      <td>13.936641</td>\n",
       "      <td>197.193413</td>\n",
       "      <td>195.650032</td>\n",
       "      <td>183.622883</td>\n",
       "      <td>33.506241</td>\n",
       "      <td>29.413982</td>\n",
       "      <td>37.141529</td>\n",
       "      <td>13.575435</td>\n",
       "      <td>0.993147</td>\n",
       "      <td>0.315524</td>\n",
       "      <td>9.860702</td>\n",
       "    </tr>\n",
       "  </tbody>\n",
       "</table>\n",
       "</div>"
      ],
      "text/plain": [
       "           area    perimeter  physiological_length  physiological_width  \\\n",
       "1231       38.5    25.556349                    10                    8   \n",
       "138        14.5    15.071068                     5                    6   \n",
       "1290  1550881.0  8131.219256                  3377                 1539   \n",
       "1097  2157367.5  7211.002766                  1083                 3114   \n",
       "460        39.0    23.313708                     8                    8   \n",
       "\n",
       "      aspect_ratio  rectangularity  circularity      mean_r      mean_g  \\\n",
       "1231      1.250000        2.077922    16.964337  194.858812  191.911236   \n",
       "138       0.833333        2.068966    15.664626  188.506163  186.108987   \n",
       "1290      2.194282        3.351129    42.631721  183.912348  180.874941   \n",
       "1097      0.347784        1.563230    24.102783  178.713918  177.977039   \n",
       "460       1.000000        1.641026    13.936641  197.193413  195.650032   \n",
       "\n",
       "          mean_b   stddev_r   stddev_g   stddev_b   contrast  correlation  \\\n",
       "1231  181.863633  34.809182  33.294240  37.022518  22.849149     0.990186   \n",
       "138   171.099081  47.095569  40.520784  56.779588  19.193600     0.995104   \n",
       "1290  165.681293  49.891362  44.386409  57.805109  20.223334     0.995524   \n",
       "1097  158.446665  55.632217  48.125594  67.335208  13.529281     0.997545   \n",
       "460   183.622883  33.506241  29.413982  37.141529  13.575435     0.993147   \n",
       "\n",
       "      inverse_difference_moments    entropy  \n",
       "1231                    0.312255  10.069319  \n",
       "138                     0.291458  10.133033  \n",
       "1290                    0.303615  10.270597  \n",
       "1097                    0.371395   9.459341  \n",
       "460                     0.315524   9.860702  "
      ]
     },
     "execution_count": 20,
     "metadata": {},
     "output_type": "execute_result"
    }
   ],
   "source": [
    "X_train.head(5)"
   ]
  },
  {
   "cell_type": "code",
   "execution_count": 21,
   "metadata": {},
   "outputs": [
    {
     "data": {
      "text/plain": [
       "array([20,  3, 22, 18,  8])"
      ]
     },
     "execution_count": 21,
     "metadata": {},
     "output_type": "execute_result"
    }
   ],
   "source": [
    "y_train[0:5]"
   ]
  },
  {
   "cell_type": "markdown",
   "metadata": {},
   "source": [
    "### Feature Scaling"
   ]
  },
  {
   "cell_type": "code",
   "execution_count": 22,
   "metadata": {},
   "outputs": [],
   "source": [
    "from sklearn.preprocessing import StandardScaler"
   ]
  },
  {
   "cell_type": "code",
   "execution_count": 23,
   "metadata": {},
   "outputs": [],
   "source": [
    "sc_X = StandardScaler()\n",
    "X_train = sc_X.fit_transform(X_train)\n",
    "X_test = sc_X.transform(X_test)"
   ]
  },
  {
   "cell_type": "code",
   "execution_count": 24,
   "metadata": {},
   "outputs": [
    {
     "data": {
      "text/plain": [
       "array([[-0.9874969 , -1.25440417, -1.1311896 , -1.16481727,  0.2325122 ,\n",
       "        -0.03980867, -0.34604666,  1.20829224,  1.22448575,  1.48774055,\n",
       "        -0.96459021, -0.76448183, -1.37340811,  0.13494334, -1.64731904,\n",
       "        -0.65870971,  0.18497419],\n",
       "       [-0.9875174 , -1.25745764, -1.13645287, -1.16652328, -0.21355134,\n",
       "        -0.04509375, -0.38729724,  0.70120807,  0.6873105 ,  0.68355993,\n",
       "        -0.00872821, -0.11339623, -0.08475603, -0.01169259,  0.01139082,\n",
       "        -1.11487593,  0.35895384]])"
      ]
     },
     "execution_count": 24,
     "metadata": {},
     "output_type": "execute_result"
    }
   ],
   "source": [
    "X_train[0:2]"
   ]
  },
  {
   "cell_type": "code",
   "execution_count": 25,
   "metadata": {
    "scrolled": true
   },
   "outputs": [
    {
     "data": {
      "text/plain": [
       "array([20,  3])"
      ]
     },
     "execution_count": 25,
     "metadata": {},
     "output_type": "execute_result"
    }
   ],
   "source": [
    "y_train[0:2]"
   ]
  },
  {
   "cell_type": "markdown",
   "metadata": {},
   "source": [
    "## Applying Random Forest Model"
   ]
  },
  {
   "cell_type": "code",
   "execution_count": 26,
   "metadata": {},
   "outputs": [],
   "source": [
    "from sklearn.ensemble import RandomForestClassifier"
   ]
  },
  {
   "cell_type": "code",
   "execution_count": 27,
   "metadata": {},
   "outputs": [
    {
     "data": {
      "text/plain": [
       "RandomForestClassifier()"
      ]
     },
     "execution_count": 27,
     "metadata": {},
     "output_type": "execute_result"
    }
   ],
   "source": [
    "model=RandomForestClassifier()\n",
    "model.fit(X_train,y_train)"
   ]
  },
  {
   "cell_type": "code",
   "execution_count": 30,
   "metadata": {},
   "outputs": [
    {
     "data": {
      "text/plain": [
       "['./leaf_rf.joblib']"
      ]
     },
     "execution_count": 30,
     "metadata": {},
     "output_type": "execute_result"
    }
   ],
   "source": [
    "import joblib\n",
    "joblib.dump(model, \"./leaf_rf.joblib\")"
   ]
  },
  {
   "cell_type": "code",
   "execution_count": 35,
   "metadata": {},
   "outputs": [],
   "source": [
    "model = joblib.load(\"./leaf_rf.joblib\")"
   ]
  },
  {
   "cell_type": "code",
   "execution_count": 36,
   "metadata": {},
   "outputs": [],
   "source": [
    "y_pred=model.predict(X_test)"
   ]
  },
  {
   "cell_type": "code",
   "execution_count": 37,
   "metadata": {
    "scrolled": true
   },
   "outputs": [
    {
     "data": {
      "text/plain": [
       "0.8743362831858407"
      ]
     },
     "execution_count": 37,
     "metadata": {},
     "output_type": "execute_result"
    }
   ],
   "source": [
    "from sklearn.metrics import accuracy_score\n",
    "accuracy_score(y_pred,y_test)"
   ]
  },
  {
   "cell_type": "code",
   "execution_count": 38,
   "metadata": {},
   "outputs": [
    {
     "name": "stdout",
     "output_type": "stream",
     "text": [
      "              precision    recall  f1-score   support\n",
      "\n",
      "           0       1.00      0.80      0.89        15\n",
      "           1       0.75      0.80      0.77        15\n",
      "           2       1.00      0.86      0.92        14\n",
      "           3       0.89      0.81      0.85        21\n",
      "           4       0.90      1.00      0.95        19\n",
      "           5       0.85      0.58      0.69        19\n",
      "           6       0.71      1.00      0.83        12\n",
      "           7       1.00      1.00      1.00        27\n",
      "           8       0.79      0.72      0.75        32\n",
      "           9       1.00      0.86      0.93        22\n",
      "          10       0.88      0.93      0.90        15\n",
      "          11       0.91      0.83      0.87        12\n",
      "          12       1.00      1.00      1.00         7\n",
      "          13       0.88      0.58      0.70        12\n",
      "          14       0.96      1.00      0.98        25\n",
      "          15       1.00      0.92      0.96        26\n",
      "          16       1.00      0.92      0.96        24\n",
      "          17       0.78      0.75      0.77        24\n",
      "          18       0.71      0.91      0.80        11\n",
      "          19       0.68      0.87      0.76        15\n",
      "          20       1.00      0.85      0.92        13\n",
      "          21       0.84      1.00      0.91        16\n",
      "          22       0.82      0.82      0.82        11\n",
      "          23       0.79      0.85      0.81        13\n",
      "          24       0.75      1.00      0.86        12\n",
      "          25       1.00      0.93      0.96        14\n",
      "          26       0.67      0.89      0.76         9\n",
      "          27       0.97      0.94      0.95        32\n",
      "          28       0.83      0.91      0.87        11\n",
      "          29       0.74      0.92      0.82        25\n",
      "          30       1.00      0.80      0.89        15\n",
      "          31       0.89      0.93      0.91        27\n",
      "\n",
      "    accuracy                           0.87       565\n",
      "   macro avg       0.87      0.87      0.87       565\n",
      "weighted avg       0.89      0.87      0.87       565\n",
      "\n"
     ]
    }
   ],
   "source": [
    "from sklearn.metrics import accuracy_score,confusion_matrix,classification_report\n",
    "import numpy as np\n",
    "print(classification_report(y_pred,y_test))"
   ]
  },
  {
   "cell_type": "markdown",
   "metadata": {},
   "source": [
    "## SVM"
   ]
  },
  {
   "cell_type": "code",
   "execution_count": 39,
   "metadata": {},
   "outputs": [
    {
     "data": {
      "text/plain": [
       "0.7097345132743362"
      ]
     },
     "execution_count": 39,
     "metadata": {},
     "output_type": "execute_result"
    }
   ],
   "source": [
    "from sklearn import svm\n",
    "clf = svm.SVC()\n",
    "clf.fit(X_train,y_train)\n",
    "y2 = clf.predict(X_test)\n",
    "from sklearn import metrics\n",
    "metrics.accuracy_score(y_test, y2)"
   ]
  },
  {
   "cell_type": "code",
   "execution_count": 155,
   "metadata": {
    "scrolled": true
   },
   "outputs": [
    {
     "name": "stdout",
     "output_type": "stream",
     "text": [
      "              precision    recall  f1-score   support\n",
      "\n",
      "           0       0.77      0.83      0.80        12\n",
      "           1       0.79      0.69      0.73        16\n",
      "           2       0.41      0.75      0.53        12\n",
      "           3       0.65      0.79      0.71        19\n",
      "           4       0.94      0.76      0.84        21\n",
      "           5       0.28      0.38      0.32        13\n",
      "           6       0.77      0.59      0.67        17\n",
      "           7       0.84      1.00      0.92        27\n",
      "           8       0.61      0.79      0.69        29\n",
      "           9       0.78      0.74      0.76        19\n",
      "          10       0.67      0.50      0.57        16\n",
      "          11       1.00      0.27      0.43        11\n",
      "          12       1.00      1.00      1.00         7\n",
      "          13       0.29      0.50      0.36         8\n",
      "          14       1.00      0.96      0.98        26\n",
      "          15       0.71      0.92      0.80        24\n",
      "          16       0.77      0.91      0.83        22\n",
      "          17       0.81      0.57      0.67        23\n",
      "          18       0.71      0.71      0.71        14\n",
      "          19       0.56      0.53      0.54        19\n",
      "          20       0.78      0.64      0.70        11\n",
      "          21       0.75      0.47      0.58        19\n",
      "          22       0.57      0.36      0.44        11\n",
      "          23       0.64      0.50      0.56        14\n",
      "          24       0.81      0.81      0.81        16\n",
      "          25       0.86      0.46      0.60        13\n",
      "          26       0.67      0.83      0.74        12\n",
      "          27       0.91      0.94      0.92        31\n",
      "          28       1.00      0.75      0.86        12\n",
      "          29       0.74      0.45      0.56        31\n",
      "          30       0.50      0.67      0.57        12\n",
      "          31       0.61      0.82      0.70        28\n",
      "\n",
      "    accuracy                           0.71       565\n",
      "   macro avg       0.72      0.68      0.68       565\n",
      "weighted avg       0.74      0.71      0.71       565\n",
      "\n"
     ]
    }
   ],
   "source": [
    " print(classification_report(y_test, y2))"
   ]
  },
  {
   "cell_type": "markdown",
   "metadata": {},
   "source": [
    "## KNN\n"
   ]
  },
  {
   "cell_type": "code",
   "execution_count": 156,
   "metadata": {},
   "outputs": [],
   "source": [
    "from sklearn.multiclass import OneVsRestClassifier\n",
    "from sklearn.neighbors import KNeighborsClassifier\n",
    "from sklearn.naive_bayes import GaussianNB\n",
    "knn = OneVsRestClassifier(GaussianNB())\n",
    "knn.fit(X_train,y_train)\n",
    "predictions = knn.predict(X_test)"
   ]
  },
  {
   "cell_type": "code",
   "execution_count": 157,
   "metadata": {},
   "outputs": [
    {
     "name": "stdout",
     "output_type": "stream",
     "text": [
      "Wall time: 0 ns\n",
      "KNN Accuracy: 0.655\n"
     ]
    }
   ],
   "source": [
    "%time\n",
    "# 98%\n",
    "print('KNN Accuracy: %.3f' % accuracy_score(y_test,predictions))"
   ]
  },
  {
   "cell_type": "code",
   "execution_count": 158,
   "metadata": {
    "scrolled": true
   },
   "outputs": [
    {
     "name": "stdout",
     "output_type": "stream",
     "text": [
      "Confusion matrix\n",
      "[[10  0  0 ...  0  0  2]\n",
      " [ 2 12  0 ...  0  0  0]\n",
      " [ 0  0  9 ...  1  1  0]\n",
      " ...\n",
      " [ 0  0  0 ...  4  0  0]\n",
      " [ 0  0  2 ...  0 10  0]\n",
      " [ 3  0  0 ...  0  0 19]]\n"
     ]
    }
   ],
   "source": [
    "#Confusion Matrix - verify accuracy of each class\n",
    "from sklearn.metrics import confusion_matrix,classification_report\n",
    "\n",
    "print(\"Confusion matrix\")\n",
    "cm = confusion_matrix(y_test, predictions)\n",
    "print(cm)\n",
    "# predictions.shape\n",
    "# y_test.shape"
   ]
  },
  {
   "cell_type": "code",
   "execution_count": 159,
   "metadata": {
    "scrolled": true
   },
   "outputs": [
    {
     "name": "stdout",
     "output_type": "stream",
     "text": [
      "              precision    recall  f1-score   support\n",
      "\n",
      "           0       0.62      0.83      0.71        12\n",
      "           1       0.92      0.75      0.83        16\n",
      "           2       0.43      0.75      0.55        12\n",
      "           3       0.60      0.63      0.62        19\n",
      "           4       1.00      0.81      0.89        21\n",
      "           5       0.47      0.54      0.50        13\n",
      "           6       0.92      0.65      0.76        17\n",
      "           7       0.88      0.52      0.65        27\n",
      "           8       0.65      0.59      0.62        29\n",
      "           9       0.54      0.74      0.62        19\n",
      "          10       0.93      0.81      0.87        16\n",
      "          11       0.21      0.64      0.31        11\n",
      "          12       1.00      1.00      1.00         7\n",
      "          13       0.40      0.75      0.52         8\n",
      "          14       0.89      0.92      0.91        26\n",
      "          15       0.62      0.67      0.64        24\n",
      "          16       0.58      0.50      0.54        22\n",
      "          17       0.72      0.78      0.75        23\n",
      "          18       0.75      0.64      0.69        14\n",
      "          19       0.36      0.26      0.30        19\n",
      "          20       0.80      0.73      0.76        11\n",
      "          21       0.73      0.58      0.65        19\n",
      "          22       0.60      0.27      0.37        11\n",
      "          23       0.64      0.64      0.64        14\n",
      "          24       0.64      0.56      0.60        16\n",
      "          25       1.00      0.69      0.82        13\n",
      "          26       0.64      0.75      0.69        12\n",
      "          27       0.76      0.94      0.84        31\n",
      "          28       0.79      0.92      0.85        12\n",
      "          29       0.40      0.13      0.20        31\n",
      "          30       0.50      0.83      0.62        12\n",
      "          31       0.70      0.68      0.69        28\n",
      "\n",
      "    accuracy                           0.65       565\n",
      "   macro avg       0.68      0.67      0.66       565\n",
      "weighted avg       0.68      0.65      0.65       565\n",
      "\n"
     ]
    }
   ],
   "source": [
    "print(classification_report(y_test, predictions))"
   ]
  },
  {
   "cell_type": "markdown",
   "metadata": {},
   "source": [
    "## Gaussian Naive Bayes"
   ]
  },
  {
   "cell_type": "code",
   "execution_count": 160,
   "metadata": {},
   "outputs": [
    {
     "name": "stdout",
     "output_type": "stream",
     "text": [
      "              precision    recall  f1-score   support\n",
      "\n",
      "           0       0.77      0.83      0.80        12\n",
      "           1       0.79      0.69      0.73        16\n",
      "           2       0.41      0.75      0.53        12\n",
      "           3       0.65      0.79      0.71        19\n",
      "           4       0.94      0.76      0.84        21\n",
      "           5       0.28      0.38      0.32        13\n",
      "           6       0.77      0.59      0.67        17\n",
      "           7       0.84      1.00      0.92        27\n",
      "           8       0.61      0.79      0.69        29\n",
      "           9       0.78      0.74      0.76        19\n",
      "          10       0.67      0.50      0.57        16\n",
      "          11       1.00      0.27      0.43        11\n",
      "          12       1.00      1.00      1.00         7\n",
      "          13       0.29      0.50      0.36         8\n",
      "          14       1.00      0.96      0.98        26\n",
      "          15       0.71      0.92      0.80        24\n",
      "          16       0.77      0.91      0.83        22\n",
      "          17       0.81      0.57      0.67        23\n",
      "          18       0.71      0.71      0.71        14\n",
      "          19       0.56      0.53      0.54        19\n",
      "          20       0.78      0.64      0.70        11\n",
      "          21       0.75      0.47      0.58        19\n",
      "          22       0.57      0.36      0.44        11\n",
      "          23       0.64      0.50      0.56        14\n",
      "          24       0.81      0.81      0.81        16\n",
      "          25       0.86      0.46      0.60        13\n",
      "          26       0.67      0.83      0.74        12\n",
      "          27       0.91      0.94      0.92        31\n",
      "          28       1.00      0.75      0.86        12\n",
      "          29       0.74      0.45      0.56        31\n",
      "          30       0.50      0.67      0.57        12\n",
      "          31       0.61      0.82      0.70        28\n",
      "\n",
      "    accuracy                           0.71       565\n",
      "   macro avg       0.72      0.68      0.68       565\n",
      "weighted avg       0.74      0.71      0.71       565\n",
      "\n"
     ]
    }
   ],
   "source": [
    "from sklearn.naive_bayes import GaussianNB\n",
    "nb = GaussianNB()\n",
    "nb.fit(X_train, y_train)\n",
    "print(classification_report(y_test, y2))"
   ]
  },
  {
   "cell_type": "markdown",
   "metadata": {},
   "source": [
    "# Testing with mobile captured leaves which are not classified"
   ]
  },
  {
   "cell_type": "code",
   "execution_count": 162,
   "metadata": {},
   "outputs": [],
   "source": [
    "import os\n",
    "import cv2"
   ]
  },
  {
   "cell_type": "code",
   "execution_count": 171,
   "metadata": {},
   "outputs": [],
   "source": [
    "def bg_sub(filename):\n",
    "    test_img_path = 'D:\\Dataset ITWWS\\\\' + filename\n",
    "    main_img = cv2.imread(test_img_path)\n",
    "    img = cv2.cvtColor(main_img, cv2.COLOR_BGR2RGB)\n",
    "    resized_image = cv2.resize(img, (1600, 1200))\n",
    "    size_y,size_x,_ = img.shape\n",
    "    gs = cv2.cvtColor(resized_image,cv2.COLOR_RGB2GRAY)\n",
    "    blur = cv2.GaussianBlur(gs, (55,55),0)\n",
    "    ret_otsu,im_bw_otsu = cv2.threshold(blur,0,255,cv2.THRESH_BINARY_INV+cv2.THRESH_OTSU)\n",
    "    kernel = np.ones((50,50),np.uint8)\n",
    "    closing = cv2.morphologyEx(im_bw_otsu, cv2.MORPH_CLOSE, kernel)\n",
    "    \n",
    "    contours, hierarchy = cv2.findContours(closing,cv2.RETR_TREE,cv2.CHAIN_APPROX_SIMPLE)\n",
    "    \n",
    "    contains = []\n",
    "    y_ri,x_ri, _ = resized_image.shape\n",
    "    for cc in contours:\n",
    "        yn = cv2.pointPolygonTest(cc,(x_ri//2,y_ri//2),False)\n",
    "        contains.append(yn)\n",
    "\n",
    "    val = [contains.index(temp) for temp in contains if temp>0]\n",
    "    index = val[0]\n",
    "    \n",
    "    black_img = np.empty([1200,1600,3],dtype=np.uint8)\n",
    "    black_img.fill(0)\n",
    "    \n",
    "    cnt = contours[index]\n",
    "    mask = cv2.drawContours(black_img, [cnt] , 0, (255,255,255), -1)\n",
    "    \n",
    "    maskedImg = cv2.bitwise_and(resized_image, mask)\n",
    "    white_pix = [255,255,255]\n",
    "    black_pix = [0,0,0]\n",
    "    \n",
    "    final_img = maskedImg\n",
    "    h,w,channels = final_img.shape\n",
    "    for x in range(0,w):\n",
    "        for y in range(0,h):\n",
    "            channels_xy = final_img[y,x]\n",
    "            if all(channels_xy == black_pix):\n",
    "                final_img[y,x] = white_pix\n",
    "    \n",
    "    return final_img"
   ]
  },
  {
   "cell_type": "code",
   "execution_count": 172,
   "metadata": {
    "scrolled": true
   },
   "outputs": [
    {
     "ename": "IndexError",
     "evalue": "list index out of range",
     "output_type": "error",
     "traceback": [
      "\u001b[1;31m---------------------------------------------------------------------------\u001b[0m",
      "\u001b[1;31mIndexError\u001b[0m                                Traceback (most recent call last)",
      "\u001b[1;32m<ipython-input-172-0fe6a2d53d52>\u001b[0m in \u001b[0;36m<module>\u001b[1;34m\u001b[0m\n\u001b[0;32m      1\u001b[0m \u001b[0mfilename\u001b[0m \u001b[1;33m=\u001b[0m \u001b[1;34m'AA.jpg'\u001b[0m\u001b[1;33m\u001b[0m\u001b[1;33m\u001b[0m\u001b[0m\n\u001b[1;32m----> 2\u001b[1;33m \u001b[0mbg_rem_img\u001b[0m \u001b[1;33m=\u001b[0m \u001b[0mbg_sub\u001b[0m\u001b[1;33m(\u001b[0m\u001b[0mfilename\u001b[0m\u001b[1;33m)\u001b[0m\u001b[1;33m\u001b[0m\u001b[1;33m\u001b[0m\u001b[0m\n\u001b[0m\u001b[0;32m      3\u001b[0m \u001b[0mtype\u001b[0m\u001b[1;33m(\u001b[0m\u001b[0mfilename\u001b[0m\u001b[1;33m)\u001b[0m\u001b[1;33m\u001b[0m\u001b[1;33m\u001b[0m\u001b[0m\n",
      "\u001b[1;32m<ipython-input-171-56349517a118>\u001b[0m in \u001b[0;36mbg_sub\u001b[1;34m(filename)\u001b[0m\n\u001b[0;32m     20\u001b[0m \u001b[1;33m\u001b[0m\u001b[0m\n\u001b[0;32m     21\u001b[0m     \u001b[0mval\u001b[0m \u001b[1;33m=\u001b[0m \u001b[1;33m[\u001b[0m\u001b[0mcontains\u001b[0m\u001b[1;33m.\u001b[0m\u001b[0mindex\u001b[0m\u001b[1;33m(\u001b[0m\u001b[0mtemp\u001b[0m\u001b[1;33m)\u001b[0m \u001b[1;32mfor\u001b[0m \u001b[0mtemp\u001b[0m \u001b[1;32min\u001b[0m \u001b[0mcontains\u001b[0m \u001b[1;32mif\u001b[0m \u001b[0mtemp\u001b[0m\u001b[1;33m>\u001b[0m\u001b[1;36m0\u001b[0m\u001b[1;33m]\u001b[0m\u001b[1;33m\u001b[0m\u001b[1;33m\u001b[0m\u001b[0m\n\u001b[1;32m---> 22\u001b[1;33m     \u001b[0mindex\u001b[0m \u001b[1;33m=\u001b[0m \u001b[0mval\u001b[0m\u001b[1;33m[\u001b[0m\u001b[1;36m0\u001b[0m\u001b[1;33m]\u001b[0m\u001b[1;33m\u001b[0m\u001b[1;33m\u001b[0m\u001b[0m\n\u001b[0m\u001b[0;32m     23\u001b[0m \u001b[1;33m\u001b[0m\u001b[0m\n\u001b[0;32m     24\u001b[0m     \u001b[0mblack_img\u001b[0m \u001b[1;33m=\u001b[0m \u001b[0mnp\u001b[0m\u001b[1;33m.\u001b[0m\u001b[0mempty\u001b[0m\u001b[1;33m(\u001b[0m\u001b[1;33m[\u001b[0m\u001b[1;36m1200\u001b[0m\u001b[1;33m,\u001b[0m\u001b[1;36m1600\u001b[0m\u001b[1;33m,\u001b[0m\u001b[1;36m3\u001b[0m\u001b[1;33m]\u001b[0m\u001b[1;33m,\u001b[0m\u001b[0mdtype\u001b[0m\u001b[1;33m=\u001b[0m\u001b[0mnp\u001b[0m\u001b[1;33m.\u001b[0m\u001b[0muint8\u001b[0m\u001b[1;33m)\u001b[0m\u001b[1;33m\u001b[0m\u001b[1;33m\u001b[0m\u001b[0m\n",
      "\u001b[1;31mIndexError\u001b[0m: list index out of range"
     ]
    }
   ],
   "source": [
    "filename = 'AA.jpg' \n",
    "bg_rem_img = bg_sub(filename)\n",
    "type(filename)"
   ]
  },
  {
   "cell_type": "code",
   "execution_count": 173,
   "metadata": {},
   "outputs": [
    {
     "data": {
      "text/plain": [
       "<matplotlib.image.AxesImage at 0x152623f20a0>"
      ]
     },
     "execution_count": 173,
     "metadata": {},
     "output_type": "execute_result"
    },
    {
     "data": {
      "image/png": "[encoded data removed]",
      "text/plain": [
       "<Figure size 432x288 with 1 Axes>"
      ]
     },
     "metadata": {
      "needs_background": "light"
     },
     "output_type": "display_data"
    }
   ],
   "source": [
    "import matplotlib.pyplot as plt\n",
    "plt.imshow(bg_rem_img)"
   ]
  },
  {
   "cell_type": "code",
   "execution_count": 174,
   "metadata": {},
   "outputs": [],
   "source": [
    "import mahotas as mt"
   ]
  },
  {
   "cell_type": "code",
   "execution_count": 175,
   "metadata": {},
   "outputs": [],
   "source": [
    "def feature_extract(img):\n",
    "        names = ['area','perimeter','physiological_length','physiological_width','aspect_ratio','rectangularity','circularity', \\\n",
    "             'mean_r','mean_g','mean_b','stddev_r','stddev_g','stddev_b', \\\n",
    "             'contrast','correlation','inverse_difference_moments','entropy'\n",
    "                ]\n",
    "        df = pd.DataFrame([], columns=names)\n",
    "\n",
    "        \n",
    "\n",
    "        #Preprocessing\n",
    "        gs = cv2.cvtColor(img,cv2.COLOR_RGB2GRAY)\n",
    "        blur = cv2.GaussianBlur(gs, (25,25),0)\n",
    "        ret_otsu,im_bw_otsu = cv2.threshold(blur,0,255,cv2.THRESH_BINARY_INV+cv2.THRESH_OTSU)\n",
    "        kernel = np.ones((50,50),np.uint8)\n",
    "        closing = cv2.morphologyEx(im_bw_otsu, cv2.MORPH_CLOSE, kernel)\n",
    "\n",
    "        #Shape features\n",
    "        contours, image = cv2.findContours(closing,cv2.RETR_TREE,cv2.CHAIN_APPROX_SIMPLE)\n",
    "        cnt = contours[0]\n",
    "        M = cv2.moments(cnt)\n",
    "        area = cv2.contourArea(cnt)\n",
    "        perimeter = cv2.arcLength(cnt,True)\n",
    "        x,y,w,h = cv2.boundingRect(cnt)\n",
    "        aspect_ratio = float(w)/h\n",
    "        rectangularity = w*h/area\n",
    "        circularity = ((perimeter)**2)/area\n",
    "\n",
    "        #Color features\n",
    "        red_channel = img[:,:,0]\n",
    "        green_channel = img[:,:,1]\n",
    "        blue_channel = img[:,:,2]\n",
    "        blue_channel[blue_channel == 255] = 0\n",
    "        green_channel[green_channel == 255] = 0\n",
    "        red_channel[red_channel == 255] = 0\n",
    "\n",
    "        red_mean = np.mean(red_channel)\n",
    "        green_mean = np.mean(green_channel)\n",
    "        blue_mean = np.mean(blue_channel)\n",
    "\n",
    "        red_std = np.std(red_channel)\n",
    "        green_std = np.std(green_channel)\n",
    "        blue_std = np.std(blue_channel)\n",
    "\n",
    "        #Texture features\n",
    "        textures = mt.features.haralick(gs)\n",
    "        ht_mean = textures.mean(axis=0)\n",
    "        contrast = ht_mean[1]\n",
    "        correlation = ht_mean[2]\n",
    "        inverse_diff_moments = ht_mean[4]\n",
    "        entropy = ht_mean[8]\n",
    "\n",
    "        vector = [area,perimeter,w,h,aspect_ratio,rectangularity,circularity,\\\n",
    "                  red_mean,green_mean,blue_mean,red_std,green_std,blue_std,\\\n",
    "                  contrast,correlation,inverse_diff_moments,entropy\n",
    "                 ]\n",
    "\n",
    "        df_temp = pd.DataFrame([vector],columns=names)\n",
    "        df = df.append(df_temp)\n",
    "\n",
    "        return df"
   ]
  },
  {
   "cell_type": "code",
   "execution_count": 176,
   "metadata": {},
   "outputs": [
    {
     "data": {
      "text/html": [
       "<div>\n",
       "<style scoped>\n",
       "    .dataframe tbody tr th:only-of-type {\n",
       "        vertical-align: middle;\n",
       "    }\n",
       "\n",
       "    .dataframe tbody tr th {\n",
       "        vertical-align: top;\n",
       "    }\n",
       "\n",
       "    .dataframe thead th {\n",
       "        text-align: right;\n",
       "    }\n",
       "</style>\n",
       "<table border=\"1\" class=\"dataframe\">\n",
       "  <thead>\n",
       "    <tr style=\"text-align: right;\">\n",
       "      <th></th>\n",
       "      <th>area</th>\n",
       "      <th>perimeter</th>\n",
       "      <th>physiological_length</th>\n",
       "      <th>physiological_width</th>\n",
       "      <th>aspect_ratio</th>\n",
       "      <th>rectangularity</th>\n",
       "      <th>circularity</th>\n",
       "      <th>mean_r</th>\n",
       "      <th>mean_g</th>\n",
       "      <th>mean_b</th>\n",
       "      <th>stddev_r</th>\n",
       "      <th>stddev_g</th>\n",
       "      <th>stddev_b</th>\n",
       "      <th>contrast</th>\n",
       "      <th>correlation</th>\n",
       "      <th>inverse_difference_moments</th>\n",
       "      <th>entropy</th>\n",
       "    </tr>\n",
       "  </thead>\n",
       "  <tbody>\n",
       "    <tr>\n",
       "      <th>0</th>\n",
       "      <td>1917201.0</td>\n",
       "      <td>5596.0</td>\n",
       "      <td>1600</td>\n",
       "      <td>1200</td>\n",
       "      <td>1.333333</td>\n",
       "      <td>1.00146</td>\n",
       "      <td>16.33382</td>\n",
       "      <td>13.634477</td>\n",
       "      <td>19.061085</td>\n",
       "      <td>2.515546</td>\n",
       "      <td>25.827701</td>\n",
       "      <td>35.559349</td>\n",
       "      <td>8.282096</td>\n",
       "      <td>24.112712</td>\n",
       "      <td>0.985854</td>\n",
       "      <td>0.841907</td>\n",
       "      <td>2.798326</td>\n",
       "    </tr>\n",
       "  </tbody>\n",
       "</table>\n",
       "</div>"
      ],
      "text/plain": [
       "        area  perimeter physiological_length physiological_width  \\\n",
       "0  1917201.0     5596.0                 1600                1200   \n",
       "\n",
       "   aspect_ratio  rectangularity  circularity     mean_r     mean_g    mean_b  \\\n",
       "0      1.333333         1.00146     16.33382  13.634477  19.061085  2.515546   \n",
       "\n",
       "    stddev_r   stddev_g  stddev_b   contrast  correlation  \\\n",
       "0  25.827701  35.559349  8.282096  24.112712     0.985854   \n",
       "\n",
       "   inverse_difference_moments   entropy  \n",
       "0                    0.841907  2.798326  "
      ]
     },
     "execution_count": 176,
     "metadata": {},
     "output_type": "execute_result"
    }
   ],
   "source": [
    "features_of_img = feature_extract(bg_rem_img)\n",
    "features_of_img"
   ]
  },
  {
   "cell_type": "code",
   "execution_count": 177,
   "metadata": {
    "scrolled": true
   },
   "outputs": [
    {
     "name": "stdout",
     "output_type": "stream",
     "text": [
      "[[  0.65016636   0.36779527   0.5425323   -0.14803778   0.32172491\n",
      "   -0.67500731  -0.36605818 -13.25748167 -14.7780713  -11.91070519\n",
      "   -1.6633356   -0.56040361  -3.24799812   0.18562896  -3.10840346\n",
      "   10.9585576  -19.66950092]]\n"
     ]
    },
    {
     "data": {
      "text/plain": [
       "7"
      ]
     },
     "execution_count": 177,
     "metadata": {},
     "output_type": "execute_result"
    }
   ],
   "source": [
    "scaled_features = sc_X.transform(features_of_img)\n",
    "print(scaled_features)\n",
    "y_pred_mobile = model.predict(scaled_features)\n",
    "y_pred_mobile[0]"
   ]
  },
  {
   "cell_type": "code",
   "execution_count": 178,
   "metadata": {},
   "outputs": [],
   "source": [
    "common_names = ['Achyranthes aspera L','Acalypha indica L','Azadirachta indica A. Juss', \\\n",
    "                'Aegle marmelos Corr.ex.Roxb','Andrographis paniculata','Adhatoda vasica Nees','Citrus aurantifolia (Christm.)',' Coleus aromaticus Benth', \\\n",
    "                'Cardiospermum halicacabum L','Cissus quadrangularis L','Catharanthus roseus','Clitoria ternatea L','Ficus benghalensis L','Ficus religiosa L', 'Gymnema sylvestre R. Br', \\\n",
    "                'Hemidesmus indicus Linn','Hibiscus rosa-sinensis L','Leucas aspera','Mangifera indica L', \\\n",
    "                'Murraya koenigii L.', 'Mimosa pudica L','Morinda tinctoria Roxb','Nerium oleander','Rauwolfia tetraphylla Linn','Sanservieria roxburghiana Schult',\\\n",
    "                'Solanum torvum Sw','Solanum trilobatum L','Terminalia arjuna','Tinospora cordifolia Miers','Vitex negundo L','Wedelia chinensis','Wrightia tinctoria Roxb.'\n",
    "               ]"
   ]
  },
  {
   "cell_type": "code",
   "execution_count": 182,
   "metadata": {},
   "outputs": [
    {
     "data": {
      "text/plain": [
       "' Coleus aromaticus Benth'"
      ]
     },
     "execution_count": 182,
     "metadata": {},
     "output_type": "execute_result"
    }
   ],
   "source": [
    "common_names[y_pred_mobile[0]]"
   ]
  }
 ],
 "metadata": {
  "kernelspec": {
   "display_name": "Python 3",
   "language": "python",
   "name": "python3"
  },
  "language_info": {
   "codemirror_mode": {
    "name": "ipython",
    "version": 3
   },
   "file_extension": ".py",
   "mimetype": "text/x-python",
   "name": "python",
   "nbconvert_exporter": "python",
   "pygments_lexer": "ipython3",
   "version": "3.8.5"
  }
 },
 "nbformat": 4,
 "nbformat_minor": 2
}
